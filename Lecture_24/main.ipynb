{
 "cells": [
  {
   "cell_type": "markdown",
   "id": "8aa891b0",
   "metadata": {},
   "source": [
    "### <strong style=\"color: yellow;\">Encapsulation – Data Hiding and Access Modifiers</strong>"
   ]
  },
  {
   "cell_type": "markdown",
   "id": "681dde62",
   "metadata": {},
   "source": [
    "Encapsulation is one of the key pillars of Object-Oriented Programming (OOP). It helps you protect your data and control how it's accessed or modified."
   ]
  },
  {
   "cell_type": "markdown",
   "id": "b6df3582",
   "metadata": {},
   "source": [
    "#### <strong style=\"color: orange;\">✅ 1. What is Encapsulation?</strong>"
   ]
  },
  {
   "cell_type": "markdown",
   "id": "199b8231",
   "metadata": {},
   "source": [
    "Encapsulation means `wrapping data (variables) and the methods (functions)` that operate on that data into a single unit – a `class`.\n",
    "\n",
    "It also means restricting direct access to some parts of an object to protect it from unintended interference."
   ]
  },
  {
   "cell_type": "markdown",
   "id": "2e630ded",
   "metadata": {},
   "source": [
    "#### <strong style=\"color: orange;\">✅ 2. Public, Protected, and Private Members</strong>"
   ]
  },
  {
   "cell_type": "markdown",
   "id": "963e6dfa",
   "metadata": {},
   "source": [
    "Python uses a convention-based approach to define access levels:\n",
    "\n",
    "| Modifier  | Syntax   | Access Level                               |\n",
    "|-----------|----------|--------------------------------------------|\n",
    "| Public    | `name`   | Accessible everywhere                      |\n",
    "| Protected | `_name`  | Accessible in class and subclasses         |\n",
    "| Private   | `__name` | Not directly accessible outside the class  |\n"
   ]
  },
  {
   "cell_type": "markdown",
   "id": "12329cfa",
   "metadata": {},
   "source": [
    "#### <strong style=\"color: orange;\">✅ 3. Public Members</strong>"
   ]
  },
  {
   "cell_type": "code",
   "execution_count": 4,
   "id": "d765a130",
   "metadata": {},
   "outputs": [],
   "source": [
    "class Student:\n",
    "    def __init__(self, name, age):\n",
    "        self.name = name\n",
    "        self.age = age\n",
    "\n",
    "    def hello(self):\n",
    "        print(f\"Hello, my name is {self.name} and I am {self.age} years old.\")"
   ]
  },
  {
   "cell_type": "code",
   "execution_count": 5,
   "id": "a47d4497",
   "metadata": {},
   "outputs": [
    {
     "name": "stdout",
     "output_type": "stream",
     "text": [
      "Alice\n",
      "20\n"
     ]
    }
   ],
   "source": [
    "s = Student(\"Alice\", 20)\n",
    "print(s.name)  # Output: Alice\n",
    "print(s.age)   # Output: 20"
   ]
  },
  {
   "cell_type": "markdown",
   "id": "0f7477ff",
   "metadata": {},
   "source": [
    "#### <strong style=\"color: orange;\">✅ 4. Protected Members (Convention only)</strong>"
   ]
  },
  {
   "cell_type": "code",
   "execution_count": 6,
   "id": "ff5676c0",
   "metadata": {},
   "outputs": [],
   "source": [
    "class Student:\n",
    "    def __init__(self, name, age):\n",
    "        self._name = name\n",
    "        self._age = age\n",
    "\n",
    "    def hello(self):\n",
    "        print(f\"Hello, my name is {self._name} and I am {self._age} years old.\")"
   ]
  },
  {
   "cell_type": "code",
   "execution_count": 7,
   "id": "73cbd39c",
   "metadata": {},
   "outputs": [
    {
     "name": "stdout",
     "output_type": "stream",
     "text": [
      "Alice\n",
      "20\n"
     ]
    }
   ],
   "source": [
    "s = Student(\"Alice\", 20)\n",
    "print(s._name)  # Output: Alice\n",
    "print(s._age)   # Output: 20"
   ]
  },
  {
   "cell_type": "markdown",
   "id": "476ff705",
   "metadata": {},
   "source": [
    "#### <strong style=\"color: orange;\">✅ 5. Private Members</strong>"
   ]
  },
  {
   "cell_type": "code",
   "execution_count": 8,
   "id": "49d03c84",
   "metadata": {},
   "outputs": [],
   "source": [
    "class Student:\n",
    "    def __init__(self, name, age):\n",
    "        self.__name = name\n",
    "        self.__age = age\n",
    "\n",
    "    def hello(self):\n",
    "        print(f\"Hello, my name is {self.__name} and I am {self.__age} years old.\")"
   ]
  },
  {
   "cell_type": "code",
   "execution_count": 11,
   "id": "446675ba",
   "metadata": {},
   "outputs": [
    {
     "name": "stdout",
     "output_type": "stream",
     "text": [
      "Mike\n",
      "22\n"
     ]
    }
   ],
   "source": [
    "s = Student(\"Mike\", 22)\n",
    "print(s._Student__name)  # This will raise an AttributeError\n",
    "print(s._Student__age)   # This will raise an AttributeError"
   ]
  },
  {
   "cell_type": "markdown",
   "id": "697a9354",
   "metadata": {},
   "source": [
    "#### <strong style=\"color: orange;\">✅ 6. Getters and Setters (Recommended Way)</strong>"
   ]
  },
  {
   "cell_type": "code",
   "execution_count": 14,
   "id": "9d964a1c",
   "metadata": {},
   "outputs": [],
   "source": [
    "class Student:\n",
    "    def __init__(self, name, age):\n",
    "        self.__name = name\n",
    "        self.__age = age\n",
    "\n",
    "    def get_name(self):\n",
    "        return self.__name\n",
    "    \n",
    "    def get_age(self):\n",
    "        return self.__age\n",
    "    \n",
    "    def set_name(self, name):\n",
    "        self.__name = name \n",
    "\n",
    "    def set_age(self, age): \n",
    "        self.__age = age"
   ]
  },
  {
   "cell_type": "code",
   "execution_count": 15,
   "id": "f3de002b",
   "metadata": {},
   "outputs": [
    {
     "name": "stdout",
     "output_type": "stream",
     "text": [
      "Alice\n",
      "20\n",
      "Bob\n",
      "25\n"
     ]
    }
   ],
   "source": [
    "s = Student(\"Alice\", 20)\n",
    "print(s.get_name())  # Output: Alice\n",
    "print(s.get_age())   # Output: 20\n",
    "s.set_name(\"Bob\")\n",
    "s.set_age(25)\n",
    "print(s.get_name())  # Output: Bob\n",
    "print(s.get_age())   # Output: 25"
   ]
  },
  {
   "cell_type": "markdown",
   "id": "7435afd9",
   "metadata": {},
   "source": [
    "#### <strong style=\"color: orange;\">✅ 7. Why Use Encapsulation?</strong>"
   ]
  },
  {
   "cell_type": "markdown",
   "id": "0a256a93",
   "metadata": {},
   "source": [
    "- 🔒 Protect sensitive data\n",
    "- 🛠️ Prevent accidental modification\n",
    "- ✔️ Add validation logic\n",
    "- 📦 Clean and modular code"
   ]
  },
  {
   "cell_type": "markdown",
   "id": "7f3f0837",
   "metadata": {},
   "source": [
    "#### <strong style=\"color: orange;\">🎯 Quick Practice</strong>"
   ]
  },
  {
   "cell_type": "markdown",
   "id": "baefc164",
   "metadata": {},
   "source": [
    "Create a class `BankAccount` with:\n",
    "\n",
    "- Private attribute `__balance`\n",
    "- Methods `deposit(amount)` and `get_balance()`\n",
    "- Validate that deposit is a positive amount"
   ]
  }
 ],
 "metadata": {
  "kernelspec": {
   "display_name": "Python 3",
   "language": "python",
   "name": "python3"
  },
  "language_info": {
   "codemirror_mode": {
    "name": "ipython",
    "version": 3
   },
   "file_extension": ".py",
   "mimetype": "text/x-python",
   "name": "python",
   "nbconvert_exporter": "python",
   "pygments_lexer": "ipython3",
   "version": "3.10.13"
  }
 },
 "nbformat": 4,
 "nbformat_minor": 5
}
