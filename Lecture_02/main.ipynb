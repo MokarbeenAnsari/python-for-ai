{
 "cells": [
  {
   "cell_type": "markdown",
   "metadata": {},
   "source": [
    "### VSCode Installation"
   ]
  },
  {
   "cell_type": "markdown",
   "metadata": {},
   "source": [
    "https://code.visualstudio.com/"
   ]
  },
  {
   "cell_type": "markdown",
   "metadata": {},
   "source": [
    "### Terminal Installation"
   ]
  },
  {
   "cell_type": "markdown",
   "metadata": {},
   "source": [
    "- In Mac: By Default\n",
    "- In Windows: Install WSL (Windows Subsytems for Linux)\n",
    "    - https://ubuntu.com/desktop/wsl\n",
    "    - https://learn.microsoft.com/en-us/windows/wsl/\n",
    "- Always use bash shell"
   ]
  },
  {
   "cell_type": "markdown",
   "metadata": {},
   "source": [
    "### Package Manager Installation"
   ]
  },
  {
   "cell_type": "markdown",
   "metadata": {},
   "source": [
    "- In Mac: Install Brew\n",
    "    - https://brew.sh/\n",
    "- In WSL: By Default apt(Advance Package Tool)"
   ]
  },
  {
   "cell_type": "markdown",
   "metadata": {},
   "source": [
    "### Python Installation"
   ]
  },
  {
   "cell_type": "markdown",
   "metadata": {},
   "source": [
    "- Official Website: https://www.python.org/\n",
    "- Python Package: https://pypi.org/\n",
    "- PIP: https://pypi.org/project/pip/"
   ]
  },
  {
   "cell_type": "markdown",
   "metadata": {},
   "source": [
    "### Jupyter Notebook/Lab Installation"
   ]
  },
  {
   "cell_type": "markdown",
   "metadata": {},
   "source": [
    "- What is Jupter?: https://docs.jupyter.org/en/latest/index.html\n",
    "- Official Website: https://jupyter.org/\n",
    "- Why should we learn[Experimentation]:\n",
    "    - Google Collab\n",
    "    - Kaggle\n",
    "    - VertexAI Workbench\n",
    "    - Amazon Sagemaker Studio\n",
    "    - Azure Machine Learning Studio"
   ]
  },
  {
   "cell_type": "markdown",
   "metadata": {},
   "source": [
    "### Anaconda/Miniconda Installation"
   ]
  },
  {
   "cell_type": "markdown",
   "metadata": {},
   "source": [
    "- Anaconda: https://www.anaconda.com/\n",
    "- Miniconda: https://docs.anaconda.com/miniconda/\n",
    "- conda info"
   ]
  },
  {
   "cell_type": "markdown",
   "metadata": {},
   "source": []
  }
 ],
 "metadata": {
  "language_info": {
   "name": "python"
  }
 },
 "nbformat": 4,
 "nbformat_minor": 2
}
