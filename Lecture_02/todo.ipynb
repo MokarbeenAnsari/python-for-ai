{
 "cells": [
  {
   "cell_type": "markdown",
   "metadata": {},
   "source": [
    "### Content for this lecture\n",
    "- [ ] VSCode Installation\n",
    "- [ ] Terminal Installation for Bash (WSL-Windows Subsystem for Linux)\n",
    "- [ ] Python/PIP Installation in System\n",
    "- [ ] Jupyter Notebook/Lab Installation\n",
    "- [ ] Anaconda/Miniconda Installation\n"
   ]
  }
 ],
 "metadata": {
  "language_info": {
   "name": "python"
  }
 },
 "nbformat": 4,
 "nbformat_minor": 2
}
