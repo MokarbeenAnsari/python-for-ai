{
 "cells": [
  {
   "cell_type": "markdown",
   "id": "bf3c03bf",
   "metadata": {},
   "source": [
    "### <strong style=\"color: yellow;\">Inheritance – Reusing Code Efficiently </strong>"
   ]
  },
  {
   "cell_type": "markdown",
   "id": "18fe48f0",
   "metadata": {},
   "source": [
    "#### <strong style=\"color: orange;\">✅ 1. What is inheritance?</strong>"
   ]
  },
  {
   "cell_type": "markdown",
   "id": "74e6f8f9",
   "metadata": {},
   "source": [
    "`Inheritance` allows a class (child) to inherit the attributes and methods of another class (parent). This makes it easier to `reuse` `code`, `reduce duplication`, and create a logical class hierarchy.\n",
    "\n",
    "Think of it like a family: A child inherits traits from parents."
   ]
  },
  {
   "cell_type": "code",
   "execution_count": 1,
   "id": "5e527b9e",
   "metadata": {},
   "outputs": [],
   "source": [
    "class Parent:\n",
    "    def greet(self):\n",
    "        print(\"Hello from Parent class\")"
   ]
  },
  {
   "cell_type": "code",
   "execution_count": 6,
   "id": "c820897a",
   "metadata": {},
   "outputs": [],
   "source": [
    "class Child(Parent):\n",
    "    def child_greet(self):\n",
    "        print(\"Hello from Child class\")"
   ]
  },
  {
   "cell_type": "code",
   "execution_count": 5,
   "id": "92330fbe",
   "metadata": {},
   "outputs": [
    {
     "name": "stdout",
     "output_type": "stream",
     "text": [
      "Hello from Child class\n",
      "Hello from Parent class\n"
     ]
    }
   ],
   "source": [
    "c = Child()\n",
    "c.child_greet()  # This will call the method from Child class\n",
    "c.greet()  # This will call the method from Parent class"
   ]
  },
  {
   "cell_type": "markdown",
   "id": "abea8c7e",
   "metadata": {},
   "source": [
    "#### <strong style=\"color: orange;\">✅ 2. `super()` – Calling Parent Methods</strong>"
   ]
  },
  {
   "cell_type": "markdown",
   "id": "8f37c5fb",
   "metadata": {},
   "source": [
    "Use `super()` to access methods and constructors from the parent class"
   ]
  },
  {
   "cell_type": "code",
   "execution_count": 8,
   "id": "64635788",
   "metadata": {},
   "outputs": [],
   "source": [
    "class Parent:\n",
    "    def greet(self):\n",
    "        print(\"Hello from Parent class\")"
   ]
  },
  {
   "cell_type": "code",
   "execution_count": 11,
   "id": "192f843a",
   "metadata": {},
   "outputs": [],
   "source": [
    "class Child(Parent):\n",
    "    def greet(self):\n",
    "        print(\"Hello from Child class\")\n",
    "        super().greet()  # Call the method from Parent class"
   ]
  },
  {
   "cell_type": "code",
   "execution_count": 10,
   "id": "7306840d",
   "metadata": {},
   "outputs": [
    {
     "name": "stdout",
     "output_type": "stream",
     "text": [
      "Hello from Child class\n",
      "Hello from Parent class\n"
     ]
    }
   ],
   "source": [
    "c = Child()\n",
    "c.greet()  # This will call the method from Child class and then Parent class"
   ]
  },
  {
   "cell_type": "markdown",
   "id": "22b3eee3",
   "metadata": {},
   "source": [
    "#### <strong style=\"color: orange;\">✅ 3. Method Overriding </strong>"
   ]
  },
  {
   "cell_type": "code",
   "execution_count": 12,
   "id": "a8fbeb9d",
   "metadata": {},
   "outputs": [],
   "source": [
    "class Parent:\n",
    "    def greet(self):\n",
    "        print(\"Hello from Parent class\")"
   ]
  },
  {
   "cell_type": "code",
   "execution_count": 13,
   "id": "32a11a08",
   "metadata": {},
   "outputs": [],
   "source": [
    "class Child(Parent):\n",
    "    def greet(self):\n",
    "        print(\"Hello from Child class\")"
   ]
  },
  {
   "cell_type": "code",
   "execution_count": 14,
   "id": "6621baab",
   "metadata": {},
   "outputs": [
    {
     "name": "stdout",
     "output_type": "stream",
     "text": [
      "Hello from Child class\n"
     ]
    }
   ],
   "source": [
    "c = Child()\n",
    "c.greet()  # This will call the method from Child class"
   ]
  },
  {
   "cell_type": "markdown",
   "id": "92cb3c5c",
   "metadata": {},
   "source": [
    "#### <strong style=\"color: orange;\"> ✅ 4. Types of Inheritance in Python</strong>"
   ]
  },
  {
   "cell_type": "markdown",
   "id": "1a7a5fa9",
   "metadata": {},
   "source": [
    "1. `Single Inheritance` – One child, one parent\n",
    "2. `Multiple Inheritance` – One child, multiple parents\n",
    "3. `Multilevel Inheritance` – Child inherits from parent, which inherits from another parent\n",
    "4. `Hierarchical Inheritance` – Multiple children from one parent"
   ]
  },
  {
   "cell_type": "code",
   "execution_count": 15,
   "id": "6dcfec8d",
   "metadata": {},
   "outputs": [],
   "source": [
    "class A:\n",
    "    def greet(self):\n",
    "        print(\"Hello from A class\")"
   ]
  },
  {
   "cell_type": "code",
   "execution_count": 24,
   "id": "3eb7a523",
   "metadata": {},
   "outputs": [],
   "source": [
    "class B(A):\n",
    "    def greet(self):\n",
    "        print(\"Hello from B class\")\n",
    "        super().greet()  # Call the method from A class"
   ]
  },
  {
   "cell_type": "code",
   "execution_count": 23,
   "id": "5a1b6266",
   "metadata": {},
   "outputs": [],
   "source": [
    "class C(A):\n",
    "    def greet(self):\n",
    "        print(\"Hello from C class\")\n",
    "        super().greet()  # Call the method from A class"
   ]
  },
  {
   "cell_type": "code",
   "execution_count": 25,
   "id": "d3ad7023",
   "metadata": {},
   "outputs": [
    {
     "name": "stdout",
     "output_type": "stream",
     "text": [
      "Hello from C class\n",
      "Hello from A class\n"
     ]
    }
   ],
   "source": [
    "c = C()\n",
    "c.greet()  # This will call the method from C class, then B class, then A class"
   ]
  },
  {
   "cell_type": "code",
   "execution_count": 26,
   "id": "bdb5e1fe",
   "metadata": {},
   "outputs": [
    {
     "name": "stdout",
     "output_type": "stream",
     "text": [
      "Hello from B class\n",
      "Hello from A class\n"
     ]
    }
   ],
   "source": [
    "b = B()\n",
    "b.greet()  # This will call the method from B class, then A class"
   ]
  },
  {
   "cell_type": "markdown",
   "id": "dab8c77f",
   "metadata": {},
   "source": [
    "#### <strong style=\"color: orange;\">✅ 5. Example </strong>"
   ]
  },
  {
   "cell_type": "code",
   "execution_count": 27,
   "id": "cd3e567d",
   "metadata": {},
   "outputs": [],
   "source": [
    "class Vehicle:\n",
    "    def __init__(self, make, model):\n",
    "        self.make = make\n",
    "        self.model = model\n",
    "\n",
    "    def display_info(self):\n",
    "        print(f\"Vehicle Make: {self.make}, Model: {self.model}\")"
   ]
  },
  {
   "cell_type": "code",
   "execution_count": 29,
   "id": "5c070e7c",
   "metadata": {},
   "outputs": [],
   "source": [
    "class Car(Vehicle):\n",
    "    def __init__(self, make, model, doors):\n",
    "        super().__init__(make, model)  # Call the constructor of Vehicle\n",
    "        self.doors = doors\n",
    "\n",
    "    def display_info(self):\n",
    "        super().display_info()  # Call the method from Vehicle\n",
    "        print(f\"Car Doors: {self.doors}\")"
   ]
  },
  {
   "cell_type": "code",
   "execution_count": 30,
   "id": "ace706c6",
   "metadata": {},
   "outputs": [],
   "source": [
    "class Bike(Vehicle):\n",
    "    def __init__(self, make, model, type_of_bike):\n",
    "        super().__init__(make, model)  # Call the constructor of Vehicle\n",
    "        self.type_of_bike = type_of_bike\n",
    "\n",
    "    def display_info(self):\n",
    "        super().display_info()  # Call the method from Vehicle\n",
    "        print(f\"Bike Type: {self.type_of_bike}\")"
   ]
  },
  {
   "cell_type": "code",
   "execution_count": 31,
   "id": "3d90c2ba",
   "metadata": {},
   "outputs": [
    {
     "name": "stdout",
     "output_type": "stream",
     "text": [
      "Vehicle Make: Toyota, Model: Camry\n",
      "Car Doors: 4\n",
      "Vehicle Make: Yamaha, Model: MT-07\n",
      "Bike Type: Sport\n"
     ]
    }
   ],
   "source": [
    "c = Car(\"Toyota\", \"Camry\", 4)\n",
    "c.display_info()  # This will call the method from Car class and then Vehicle class\n",
    "b = Bike(\"Yamaha\", \"MT-07\", \"Sport\")\n",
    "b.display_info()  # This will call the method from Bike class and then Vehicle class"
   ]
  }
 ],
 "metadata": {
  "kernelspec": {
   "display_name": "Python 3",
   "language": "python",
   "name": "python3"
  },
  "language_info": {
   "codemirror_mode": {
    "name": "ipython",
    "version": 3
   },
   "file_extension": ".py",
   "mimetype": "text/x-python",
   "name": "python",
   "nbconvert_exporter": "python",
   "pygments_lexer": "ipython3",
   "version": "3.10.13"
  }
 },
 "nbformat": 4,
 "nbformat_minor": 5
}
