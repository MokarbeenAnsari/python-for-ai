{
 "cells": [
  {
   "cell_type": "markdown",
   "id": "b39ebf34",
   "metadata": {},
   "source": [
    "\n",
    "### <strong style=\"color: yellow;\">Polymorphism – Same Interface, Different Implementation</strong>"
   ]
  },
  {
   "cell_type": "markdown",
   "id": "57844059",
   "metadata": {},
   "source": [
    "#### <strong style=\"color: orange;\">✅ 1. What is Polymorphism?</strong>"
   ]
  },
  {
   "cell_type": "markdown",
   "id": "6a54e360",
   "metadata": {},
   "source": [
    "Polymorphism means `many forms`. In Python, it allows different classes to define methods with the `same name`, but with `different behaviors`. It lets us use a `common interface` for different types of objects."
   ]
  },
  {
   "cell_type": "markdown",
   "id": "a3d8b1c8",
   "metadata": {},
   "source": [
    "#### <strong style=\"color: orange;\">✅ 2. Polymorphism with Functions</strong>"
   ]
  },
  {
   "cell_type": "code",
   "execution_count": 2,
   "id": "8a83496f",
   "metadata": {},
   "outputs": [],
   "source": [
    "class Car:\n",
    "    def start_engine(self):\n",
    "        print(\"Car engine started\")\n",
    "\n",
    "    def stop_engine(self):\n",
    "        print(\"Car engine stopped\")\n",
    "\n",
    "    def drive(self):\n",
    "        print(\"Car is driving\")"
   ]
  },
  {
   "cell_type": "code",
   "execution_count": 7,
   "id": "dbdb3030",
   "metadata": {},
   "outputs": [],
   "source": [
    "class Bike:\n",
    "    def start_engine(self):\n",
    "        print(\"Bike engine started\")\n",
    "\n",
    "    def stop_engine(self):\n",
    "        print(\"Bike engine stopped\")\n",
    "\n",
    "    def drive(self):\n",
    "        print(\"Bike is riding\")"
   ]
  },
  {
   "cell_type": "code",
   "execution_count": 9,
   "id": "1060b2be",
   "metadata": {},
   "outputs": [
    {
     "name": "stdout",
     "output_type": "stream",
     "text": [
      "Car engine started\n",
      "Car is driving\n",
      "Car engine stopped\n",
      "Bike engine started\n",
      "Bike is riding\n",
      "Bike engine stopped\n"
     ]
    }
   ],
   "source": [
    "vehicles = [Car(), Bike()]\n",
    "for vehicle in vehicles:\n",
    "    vehicle.start_engine()\n",
    "    vehicle.drive()\n",
    "    vehicle.stop_engine() "
   ]
  },
  {
   "cell_type": "markdown",
   "id": "567ff307",
   "metadata": {},
   "source": [
    "#### <strong style=\"color: orange;\">✅ 3. Polymorphism with Inheritance</strong>"
   ]
  },
  {
   "cell_type": "code",
   "execution_count": 10,
   "id": "e39d404f",
   "metadata": {},
   "outputs": [],
   "source": [
    "from abc import ABC, abstractmethod\n",
    "\n",
    "class Vehicle(ABC):\n",
    "    @abstractmethod\n",
    "    def start_engine(self):\n",
    "        pass\n",
    "\n",
    "    @abstractmethod\n",
    "    def stop_engine(self):\n",
    "        pass\n",
    "\n",
    "    @abstractmethod\n",
    "    def drive(self):\n",
    "        pass"
   ]
  },
  {
   "cell_type": "code",
   "execution_count": 12,
   "id": "2df75cc2",
   "metadata": {},
   "outputs": [],
   "source": [
    "class Car(Vehicle):\n",
    "    def start_engine(self):\n",
    "        print(\"Car engine started\")\n",
    "\n",
    "    def stop_engine(self):\n",
    "        print(\"Car engine stopped\")\n",
    "\n",
    "    def drive(self):\n",
    "        print(\"Car is driving\")"
   ]
  },
  {
   "cell_type": "code",
   "execution_count": 13,
   "id": "f307ac9f",
   "metadata": {},
   "outputs": [],
   "source": [
    "class Bike(Vehicle):\n",
    "    def start_engine(self):\n",
    "        print(\"Bike engine started\")\n",
    "\n",
    "    def stop_engine(self):\n",
    "        print(\"Bike engine stopped\")\n",
    "\n",
    "    def drive(self):\n",
    "        print(\"Bike is driving\")"
   ]
  },
  {
   "cell_type": "code",
   "execution_count": 14,
   "id": "ffd1b5e3",
   "metadata": {},
   "outputs": [
    {
     "name": "stdout",
     "output_type": "stream",
     "text": [
      "Car engine started\n",
      "Car is driving\n",
      "Car engine stopped\n",
      "Bike engine started\n",
      "Bike is driving\n",
      "Bike engine stopped\n"
     ]
    }
   ],
   "source": [
    "vehicles = [Car(), Bike()]\n",
    "for vehicle in vehicles:\n",
    "    vehicle.start_engine()\n",
    "    vehicle.drive()\n",
    "    vehicle.stop_engine()"
   ]
  },
  {
   "cell_type": "markdown",
   "id": "818fb68f",
   "metadata": {},
   "source": [
    "#### <strong style=\"color: orange;\">✅ 🎯 4. When to Use Polymorphism?</strong>"
   ]
  },
  {
   "cell_type": "markdown",
   "id": "6557e96a",
   "metadata": {},
   "source": [
    "- When you want to define `common behavior` in different classes\n",
    "- When you want `cleaner, more maintainable code`\n",
    "- When you're working with `collections of related objects`"
   ]
  }
 ],
 "metadata": {
  "kernelspec": {
   "display_name": "Python 3",
   "language": "python",
   "name": "python3"
  },
  "language_info": {
   "codemirror_mode": {
    "name": "ipython",
    "version": 3
   },
   "file_extension": ".py",
   "mimetype": "text/x-python",
   "name": "python",
   "nbconvert_exporter": "python",
   "pygments_lexer": "ipython3",
   "version": "3.10.13"
  }
 },
 "nbformat": 4,
 "nbformat_minor": 5
}
