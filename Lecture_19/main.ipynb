{
 "cells": [
  {
   "cell_type": "markdown",
   "metadata": {},
   "source": [
    "### <code style=\"color: yellow;\">**Modules and Packages in Python**</code>"
   ]
  },
  {
   "cell_type": "markdown",
   "metadata": {},
   "source": [
    "<code>In Python, modules and packages help in organizing and reusing code efficiently.</code>"
   ]
  },
  {
   "cell_type": "markdown",
   "metadata": {},
   "source": [
    "#### <strong style=\"color: orange;\">1.   Python Module</strong>"
   ]
  },
  {
   "cell_type": "markdown",
   "metadata": {},
   "source": [
    "A module is a single Python file(.py) containing functions, classes, and variables.\n",
    "- Built-in module\n",
    "- User defined module"
   ]
  },
  {
   "cell_type": "code",
   "execution_count": 3,
   "metadata": {},
   "outputs": [
    {
     "name": "stdout",
     "output_type": "stream",
     "text": [
      "3.141592653589793\n",
      "9.219544457292887\n"
     ]
    }
   ],
   "source": [
    "import math as m\n",
    "\n",
    "print(m.pi)\n",
    "print(m.sqrt(85))"
   ]
  },
  {
   "cell_type": "code",
   "execution_count": 2,
   "metadata": {},
   "outputs": [
    {
     "name": "stdout",
     "output_type": "stream",
     "text": [
      "Hello from my_module.py\n",
      "Bye from my_module.py\n"
     ]
    }
   ],
   "source": [
    "import my_module as mm\n",
    "\n",
    "mm.hello()\n",
    "mm.bye()"
   ]
  },
  {
   "cell_type": "markdown",
   "metadata": {},
   "source": [
    "#### <strong style=\"color: orange;\">2.   Python Package</strong>"
   ]
  },
  {
   "cell_type": "markdown",
   "metadata": {},
   "source": [
    "A package is a collection of multiple modules inside a directory. It must contain a special file called __init__.py. Which can be empty or contain initialization code."
   ]
  },
  {
   "cell_type": "code",
   "execution_count": 1,
   "metadata": {},
   "outputs": [
    {
     "name": "stdout",
     "output_type": "stream",
     "text": [
      "Hello from module1.py\n",
      "Bye from module2.py\n"
     ]
    }
   ],
   "source": [
    "import my_package as mp\n",
    "\n",
    "mp.hello()\n",
    "mp.bye()"
   ]
  },
  {
   "cell_type": "markdown",
   "metadata": {},
   "source": [
    "#### <strong style=\"color: orange;\">3. Difference Between Module and Package</strong>"
   ]
  },
  {
   "cell_type": "markdown",
   "metadata": {},
   "source": [
    "| Feature   | Module                      | Package                                       |\n",
    "|-----------|-----------------------------|-----------------------------------------------|\n",
    "| What is it? | A single `.py` file         | A folder containing multiple modules         |\n",
    "| Structure | Just a Python script        | Contains `__init__.py` and multiple `.py` files |\n",
    "| Purpose   | Reusable functions and classes | Organizes related modules together          |\n"
   ]
  },
  {
   "cell_type": "markdown",
   "metadata": {},
   "source": [
    "#### <strong style=\"color: orange;\">4. Installing and Using External Packages</strong>"
   ]
  },
  {
   "cell_type": "markdown",
   "metadata": {},
   "source": [
    "<code>pip install requests</code>"
   ]
  }
 ],
 "metadata": {
  "kernelspec": {
   "display_name": "Python 3",
   "language": "python",
   "name": "python3"
  },
  "language_info": {
   "codemirror_mode": {
    "name": "ipython",
    "version": 3
   },
   "file_extension": ".py",
   "mimetype": "text/x-python",
   "name": "python",
   "nbconvert_exporter": "python",
   "pygments_lexer": "ipython3",
   "version": "3.10.13"
  }
 },
 "nbformat": 4,
 "nbformat_minor": 2
}
