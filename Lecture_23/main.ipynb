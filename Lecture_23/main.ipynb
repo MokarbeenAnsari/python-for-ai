{
 "cells": [
  {
   "cell_type": "markdown",
   "id": "29989057",
   "metadata": {},
   "source": [
    "### <strong style=\"color: yellow;\">Understanding Classes and Objects</strong>"
   ]
  },
  {
   "cell_type": "markdown",
   "id": "e72a89d9",
   "metadata": {},
   "source": [
    "#### <strong style=\"color: orange;\">✅ 1. What is a Class?</strong>"
   ]
  },
  {
   "cell_type": "markdown",
   "id": "24adb1bb",
   "metadata": {},
   "source": [
    "A class is like a blueprint for creating objects. It defines properties (attributes) and behaviours (methods)."
   ]
  },
  {
   "cell_type": "code",
   "execution_count": 1,
   "id": "c73228ec",
   "metadata": {},
   "outputs": [],
   "source": [
    "class Car:\n",
    "    pass"
   ]
  },
  {
   "cell_type": "markdown",
   "id": "dd6b643c",
   "metadata": {},
   "source": [
    "#### <strong style=\"color: orange;\">✅ 2. What is an Object?</strong>"
   ]
  },
  {
   "cell_type": "markdown",
   "id": "26a00501",
   "metadata": {},
   "source": [
    "An object is an instance of a class. When you create an object, you are building something based on the class blueprint."
   ]
  },
  {
   "cell_type": "code",
   "execution_count": 2,
   "id": "e657190f",
   "metadata": {},
   "outputs": [],
   "source": [
    "car1 = Car()\n",
    "car2 = Car()\n",
    "car3 = Car()"
   ]
  },
  {
   "cell_type": "code",
   "execution_count": 3,
   "id": "d85d5678",
   "metadata": {},
   "outputs": [
    {
     "name": "stdout",
     "output_type": "stream",
     "text": [
      "<class '__main__.Car'>\n"
     ]
    }
   ],
   "source": [
    "print(type(car1))"
   ]
  },
  {
   "cell_type": "code",
   "execution_count": 1,
   "id": "df877684",
   "metadata": {},
   "outputs": [
    {
     "name": "stdout",
     "output_type": "stream",
     "text": [
      "<class 'car_module.Car'>\n"
     ]
    }
   ],
   "source": [
    "from car_module import Car\n",
    "car4 = Car()\n",
    "print(type(car4))"
   ]
  },
  {
   "cell_type": "markdown",
   "id": "a5edcf80",
   "metadata": {},
   "source": [
    "#### <strong style=\"color: orange;\">✅ 3. Attributes vs Methods</strong>"
   ]
  },
  {
   "cell_type": "markdown",
   "id": "2f734381",
   "metadata": {},
   "source": [
    "- **Attributes**: Variables that belong to the object (e.g., `color`, `brand`, `wheels`)\n",
    "- **Methods**: Functions defined inside a class (e.g., `info()`)"
   ]
  },
  {
   "cell_type": "markdown",
   "id": "f9d733d5",
   "metadata": {},
   "source": [
    "#### <strong style=\"color: orange;\">✅ 4. `__init__()` Constructor Method</strong>"
   ]
  },
  {
   "cell_type": "markdown",
   "id": "8240a4ba",
   "metadata": {},
   "source": [
    "The `__init__()` method is a special method used to initialise the object’s state (set values when the object is created)."
   ]
  },
  {
   "cell_type": "code",
   "execution_count": 2,
   "id": "b82512de",
   "metadata": {},
   "outputs": [],
   "source": [
    "class Car:\n",
    "    def __init__(self):\n",
    "        print(\"Car object created.\")"
   ]
  },
  {
   "cell_type": "code",
   "execution_count": 3,
   "id": "9bf53690",
   "metadata": {},
   "outputs": [
    {
     "name": "stdout",
     "output_type": "stream",
     "text": [
      "Car object created.\n"
     ]
    }
   ],
   "source": [
    "car1 = Car()"
   ]
  },
  {
   "cell_type": "code",
   "execution_count": 7,
   "id": "73fb2cd0",
   "metadata": {},
   "outputs": [],
   "source": [
    "class Car:\n",
    "    def __init__(self, model):\n",
    "        self.model = model\n",
    "\n",
    "    def display_model(self):\n",
    "        print(f\"The car model is {self.model}\")\n"
   ]
  },
  {
   "cell_type": "code",
   "execution_count": 8,
   "id": "aeb4f553",
   "metadata": {},
   "outputs": [
    {
     "name": "stdout",
     "output_type": "stream",
     "text": [
      "The car model is Toyota\n"
     ]
    }
   ],
   "source": [
    "car1 = Car(\"Toyota\")\n",
    "car1.display_model()"
   ]
  },
  {
   "cell_type": "markdown",
   "id": "8e7203fa",
   "metadata": {},
   "source": [
    "#### <strong style=\"color: orange;\">✅ 5. `self` Keyword</strong>"
   ]
  },
  {
   "cell_type": "markdown",
   "id": "7f58af52",
   "metadata": {},
   "source": [
    "- Refers to the **current object**.\n",
    "- Must be the first parameter in all methods of a class."
   ]
  },
  {
   "cell_type": "code",
   "execution_count": 14,
   "id": "ce0c35d5",
   "metadata": {},
   "outputs": [],
   "source": [
    "class Car:\n",
    "    def __init__(self, model):\n",
    "        self.model = model\n",
    "\n",
    "    def hello(self):\n",
    "        print(\"Hello from the Car class!\") \n",
    "\n",
    "    def display_model(self):\n",
    "        print(f\"The car model is {self.model}\")\n",
    "        self.hello()"
   ]
  },
  {
   "cell_type": "code",
   "execution_count": 16,
   "id": "a8d9e19d",
   "metadata": {},
   "outputs": [
    {
     "name": "stdout",
     "output_type": "stream",
     "text": [
      "The car model is Toyota\n",
      "Hello from the Car class!\n",
      "Hello from the Car class!\n",
      "Toyota\n"
     ]
    }
   ],
   "source": [
    "car = Car(\"Toyota\")\n",
    "car.display_model()\n",
    "car.hello()\n",
    "print(car.model)"
   ]
  },
  {
   "cell_type": "markdown",
   "id": "849652d3",
   "metadata": {},
   "source": [
    "#### <strong style=\"color: orange;\">✅ 6. Accessing Attributes and Methods</strong>"
   ]
  },
  {
   "cell_type": "markdown",
   "id": "68b14a80",
   "metadata": {},
   "source": [
    "- `object_name.attribute`\n",
    "- `object_name.method()`"
   ]
  },
  {
   "cell_type": "markdown",
   "id": "cfe73289",
   "metadata": {},
   "source": [
    "#### <strong style=\"color: orange;\">✅ 7. Creating Multiple Objects</strong>"
   ]
  },
  {
   "cell_type": "markdown",
   "id": "7751caab",
   "metadata": {},
   "source": [
    "Each object has its own copy of attributes:"
   ]
  },
  {
   "cell_type": "code",
   "execution_count": 17,
   "id": "92797a9b",
   "metadata": {},
   "outputs": [],
   "source": [
    "class Car:\n",
    "    def __init__(self, model):\n",
    "        self.model = model\n",
    "\n",
    "    def display_model(self):\n",
    "        print(f\"The car model is {self.model}\")"
   ]
  },
  {
   "cell_type": "code",
   "execution_count": 18,
   "id": "ef126693",
   "metadata": {},
   "outputs": [
    {
     "name": "stdout",
     "output_type": "stream",
     "text": [
      "The car model is Toyota\n",
      "The car model is Honda\n"
     ]
    }
   ],
   "source": [
    "car1 = Car(\"Toyota\")\n",
    "car2 = Car(\"Honda\")\n",
    "car1.display_model()\n",
    "car2.display_model()"
   ]
  },
  {
   "cell_type": "markdown",
   "id": "669eac84",
   "metadata": {},
   "source": [
    "#### <strong style=\"color: orange;\">📝 Practice Exercise</strong>"
   ]
  },
  {
   "cell_type": "markdown",
   "id": "9e2817ab",
   "metadata": {},
   "source": [
    "Create a class called `Student` with:\n",
    "\n",
    "- Attributes: `name`, `grade`\n",
    "- Method: `display_info()` to print the student’s name and grade"
   ]
  }
 ],
 "metadata": {
  "kernelspec": {
   "display_name": "Python 3",
   "language": "python",
   "name": "python3"
  },
  "language_info": {
   "codemirror_mode": {
    "name": "ipython",
    "version": 3
   },
   "file_extension": ".py",
   "mimetype": "text/x-python",
   "name": "python",
   "nbconvert_exporter": "python",
   "pygments_lexer": "ipython3",
   "version": "3.10.13"
  }
 },
 "nbformat": 4,
 "nbformat_minor": 5
}
