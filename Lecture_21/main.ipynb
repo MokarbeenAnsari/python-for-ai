{
 "cells": [
  {
   "cell_type": "markdown",
   "metadata": {},
   "source": [
    "### <strong style=\"color: yellow;\">Exception Handling in Python</strong>"
   ]
  },
  {
   "cell_type": "markdown",
   "metadata": {},
   "source": [
    "Exception handling in Python is a mechanism that allows us to handle runtime errors gracefully, preventing crashes and enabling smoother program execution."
   ]
  },
  {
   "cell_type": "markdown",
   "metadata": {},
   "source": [
    "| Block      | Description |\n",
    "|------------|------------|\n",
    "| `try`      | The `try` block lets you test a block of code for errors. |\n",
    "| `except`   | The `except` block lets you handle the error. |\n",
    "| `else`     | The `else` block lets you execute code when there is no error. |\n",
    "| `finally`  | The `finally` block lets you execute code, regardless of the result of the `try` and `except` blocks. |\n"
   ]
  },
  {
   "cell_type": "markdown",
   "metadata": {},
   "source": [
    "#### <strong style=\"color: orange;\">1. Basic Exception Handling with `try-except`</strong>"
   ]
  },
  {
   "cell_type": "code",
   "execution_count": 4,
   "metadata": {},
   "outputs": [
    {
     "name": "stdout",
     "output_type": "stream",
     "text": [
      "Error occurred\n"
     ]
    }
   ],
   "source": [
    "try:\n",
    "    print(b)\n",
    "except NameError:\n",
    "    print(\"Error occurred\")"
   ]
  },
  {
   "cell_type": "markdown",
   "metadata": {},
   "source": [
    "#### <strong style=\"color: orange;\">2. Handling Multiple Exception with `try-except`</strong>"
   ]
  },
  {
   "cell_type": "code",
   "execution_count": 4,
   "metadata": {},
   "outputs": [
    {
     "name": "stdout",
     "output_type": "stream",
     "text": [
      "Python\n",
      "Error: division by zero\n"
     ]
    }
   ],
   "source": [
    "try:\n",
    "    b = \"Python\"\n",
    "    print(b)\n",
    "    print(10/0)\n",
    "except Exception as e:\n",
    "    print(f\"Error: {e}\")"
   ]
  },
  {
   "cell_type": "markdown",
   "metadata": {},
   "source": [
    "#### <strong style=\"color: orange;\">3. Catching All Exceptions `(Exception)`</strong>"
   ]
  },
  {
   "cell_type": "code",
   "execution_count": null,
   "metadata": {},
   "outputs": [],
   "source": []
  },
  {
   "cell_type": "markdown",
   "metadata": {},
   "source": [
    "#### <strong style=\"color: orange;\">4. Else Block `(else)`</strong>"
   ]
  },
  {
   "cell_type": "code",
   "execution_count": 6,
   "metadata": {},
   "outputs": [
    {
     "name": "stdout",
     "output_type": "stream",
     "text": [
      "5.0\n",
      "No error occurred\n"
     ]
    }
   ],
   "source": [
    "try:\n",
    "    print(10/2)\n",
    "except ZeroDivisionError:\n",
    "    print(\"Zero Division Error occurred\")\n",
    "except NameError:\n",
    "    print(\"Name Error occurred\")\n",
    "except Exception as e:\n",
    "    print(f\"Error: {e}\")\n",
    "else:\n",
    "    print(\"No error occurred\")"
   ]
  },
  {
   "cell_type": "markdown",
   "metadata": {},
   "source": [
    "#### <strong style=\"color: orange;\">5. Finally Block `(finally)`</strong>"
   ]
  },
  {
   "cell_type": "code",
   "execution_count": 8,
   "metadata": {},
   "outputs": [
    {
     "name": "stdout",
     "output_type": "stream",
     "text": [
      "5.0\n",
      "No error occurred\n",
      "Finally block executed\n"
     ]
    }
   ],
   "source": [
    "try:\n",
    "    print(10/2)\n",
    "except ZeroDivisionError:\n",
    "    print(\"Zero Division Error occurred\")\n",
    "except NameError:\n",
    "    print(\"Name Error occurred\")\n",
    "except Exception as e:\n",
    "    print(f\"Error: {e}\")\n",
    "else:\n",
    "    print(\"No error occurred\")\n",
    "finally:\n",
    "    print(\"Finally block executed\")"
   ]
  },
  {
   "cell_type": "markdown",
   "metadata": {},
   "source": [
    "#### <strong style=\"color:orange;\">6. Raising Custom Exceptions `(raise)`</strong>"
   ]
  },
  {
   "cell_type": "code",
   "execution_count": 9,
   "metadata": {},
   "outputs": [
    {
     "name": "stdout",
     "output_type": "stream",
     "text": [
      "Python\n",
      "Error: Error occurred\n"
     ]
    }
   ],
   "source": [
    "try:\n",
    "    print(\"Python\")\n",
    "    raise Exception(\"Error occurred\")\n",
    "except Exception as e:\n",
    "    print(f\"Error: {e}\")"
   ]
  },
  {
   "cell_type": "markdown",
   "metadata": {},
   "source": [
    "#### <strong style=\"color: orange;\">7. Best Practices for Exception Handling</strong>"
   ]
  },
  {
   "cell_type": "markdown",
   "metadata": {},
   "source": [
    "- ✅ Use specific exceptions instead of `Exception` when possible.\n",
    "- ✅ Use `finally` for cleanup (e.g., closing files or database connections).\n",
    "\n"
   ]
  },
  {
   "cell_type": "markdown",
   "metadata": {},
   "source": [
    "#### <strong style=\"color: orange;\">8. Exception List</strong>"
   ]
  },
  {
   "cell_type": "markdown",
   "metadata": {},
   "source": [
    "Official Docs: https://docs.python.org/3/library/exceptions.html"
   ]
  }
 ],
 "metadata": {
  "kernelspec": {
   "display_name": "Python 3",
   "language": "python",
   "name": "python3"
  },
  "language_info": {
   "codemirror_mode": {
    "name": "ipython",
    "version": 3
   },
   "file_extension": ".py",
   "mimetype": "text/x-python",
   "name": "python",
   "nbconvert_exporter": "python",
   "pygments_lexer": "ipython3",
   "version": "3.10.13"
  }
 },
 "nbformat": 4,
 "nbformat_minor": 2
}
