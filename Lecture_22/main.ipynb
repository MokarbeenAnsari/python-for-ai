{
 "cells": [
  {
   "cell_type": "markdown",
   "id": "3e917c8d",
   "metadata": {},
   "source": [
    "### <strong style=\"color: yellow;\">1. Why do we need OOP?</strong>"
   ]
  },
  {
   "cell_type": "markdown",
   "id": "1ee6f1fe",
   "metadata": {},
   "source": [
    "#### <strong style=\"color: orange;\"> Procedural Programming </strong>"
   ]
  },
  {
   "cell_type": "markdown",
   "id": "8166c54f",
   "metadata": {},
   "source": [
    "A programming paradigm based on functions or procedures. It follows a top-down approach.\n",
    "\n",
    "<strong style=\"color: green;\">Key Characteristics: </strong>\n",
    "- Code is divided into functions.\n",
    "- Data and functions are separate.\n",
    "- Focuses on sequence of actions to be performed.\n",
    "- Global state is often used and shared across functions.\n",
    "- Easier for small programs but gets messy as complexity grows."
   ]
  },
  {
   "cell_type": "markdown",
   "id": "453bae97",
   "metadata": {},
   "source": [
    "#### <strong style=\"color: orange;\"> Object Oriented Programming </strong>"
   ]
  },
  {
   "cell_type": "markdown",
   "id": "0a27a887",
   "metadata": {},
   "source": [
    "A paradigm based on objects, which are instances of classes. It follows a bottom-up approach.\n",
    "\n",
    "<strong style=\"color: green;\">Key Characteristics:</strong>\n",
    "- Code is organized around objects and classes.\n",
    "- Data and related functions (methods) are encapsulated together.\n",
    "- Emphasizes modularity, reusability, and abstraction.\n",
    "- Uses inheritance, polymorphism, and encapsulation.\n",
    "- Scales better for large, complex applications."
   ]
  },
  {
   "cell_type": "markdown",
   "id": "2d6a2330",
   "metadata": {},
   "source": [
    "### <strong style=\"color: yellow;\"> 2. Four Main Principles of OOP </strong> "
   ]
  },
  {
   "cell_type": "markdown",
   "id": "7279bfa6",
   "metadata": {},
   "source": [
    "#### <strong style=\"color: orange;\"> Encapsulation 🔒</strong>"
   ]
  },
  {
   "cell_type": "markdown",
   "id": "1d679579",
   "metadata": {},
   "source": [
    "Wrapping data (variables) and methods (functions) together into a single unit (class), and restricting direct access to some of the object's components.\n",
    "\n",
    "<strong style=\"color: green;\">Purpose:</strong>\n",
    "- Protects data from outside interference.\n",
    "- Helps in data hiding and abstraction.\n",
    "- Allows access via public methods (getters/setters)."
   ]
  },
  {
   "cell_type": "markdown",
   "id": "192830f1",
   "metadata": {},
   "source": [
    "#### <strong style=\"color: orange;\"> Abstraction 🧠</strong>"
   ]
  },
  {
   "cell_type": "markdown",
   "id": "6a34bfe0",
   "metadata": {},
   "source": [
    "Hiding complex implementation details and showing only the essential features of the object.\n",
    "\n",
    "<strong style=\"color: green;\">Purpose:</strong>\n",
    "- Simplifies usage for the user.\n",
    "- Reduces complexity.\n",
    "- Focuses on what an object does, not how it does it."
   ]
  },
  {
   "cell_type": "markdown",
   "id": "d3ca2a33",
   "metadata": {},
   "source": [
    "#### <strong style=\"color: orange;\"> Inheritance 👪</strong>"
   ]
  },
  {
   "cell_type": "markdown",
   "id": "7992dd42",
   "metadata": {},
   "source": [
    "One class (child or subclass) can inherit attributes and methods from another class (parent or superclass).\n",
    "\n",
    "<strong style=\"color: green;\">Purpose: </strong>\n",
    "- Promotes code reusability.\n",
    "- Helps create a natural hierarchy."
   ]
  },
  {
   "cell_type": "markdown",
   "id": "ce571feb",
   "metadata": {},
   "source": [
    "#### <strong style=\"color: orange;\"> Polymorphism 🧬</strong>"
   ]
  },
  {
   "cell_type": "markdown",
   "id": "81985d31",
   "metadata": {},
   "source": [
    "Same function name or operator can behave differently depending on the object (many forms).\n",
    "\n",
    "<strong style=\"color: green\">Purpose:</strong>\n",
    "- Enhances flexibility and integration.\n",
    "- Allows code to work with objects of multiple classes through a common interface."
   ]
  }
 ],
 "metadata": {
  "kernelspec": {
   "display_name": "Python 3",
   "language": "python",
   "name": "python3"
  },
  "language_info": {
   "name": "python",
   "version": "3.10.13"
  }
 },
 "nbformat": 4,
 "nbformat_minor": 5
}
