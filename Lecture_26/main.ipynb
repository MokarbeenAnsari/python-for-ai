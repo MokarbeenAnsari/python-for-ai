{
 "cells": [
  {
   "cell_type": "markdown",
   "id": "7b575ce8",
   "metadata": {},
   "source": [
    "### <strong style=\"color: yellow;\">Abstraction – Hiding Implementation Details </strong>"
   ]
  },
  {
   "cell_type": "markdown",
   "id": "33d17354",
   "metadata": {},
   "source": [
    "`Abstraction` is one of the key principles of Object-Oriented Programming (OOP). It means hiding the complex implementation and showing only the necessary details to the user."
   ]
  },
  {
   "cell_type": "markdown",
   "id": "85bdc9fb",
   "metadata": {},
   "source": [
    "Think of driving a car — you don’t need to know how the engine works; you just use the steering, brake, and accelerator. That’s abstraction."
   ]
  },
  {
   "cell_type": "markdown",
   "id": "699c3b49",
   "metadata": {},
   "source": [
    "#### <strong style=\"color: orange;\">✅ 1. Why Use Abstraction?</strong>"
   ]
  },
  {
   "cell_type": "markdown",
   "id": "deb3aee9",
   "metadata": {},
   "source": [
    "- To hide internal implementation\n",
    "- To make code easier to use and maintain\n",
    "- To focus on what an object does instead of how"
   ]
  },
  {
   "cell_type": "markdown",
   "id": "5dcd403b",
   "metadata": {},
   "source": [
    "#### <strong style=\"color: orange;\">✅ 2. Abstraction in Python </strong>"
   ]
  },
  {
   "cell_type": "markdown",
   "id": "c0e03e35",
   "metadata": {},
   "source": [
    "Python supports abstraction through abstract classes and interfaces, using the abc module (abc stands for Abstract Base Class)."
   ]
  },
  {
   "cell_type": "markdown",
   "id": "e65da1c3",
   "metadata": {},
   "source": [
    "##### <strong style=\"color: pink;\">`Step 01.` Import ABC and abstractmethod </strong>\n"
   ]
  },
  {
   "cell_type": "code",
   "execution_count": 3,
   "id": "05c1bcbf",
   "metadata": {},
   "outputs": [],
   "source": [
    "from abc import ABC, abstractmethod"
   ]
  },
  {
   "cell_type": "markdown",
   "id": "9783d6fe",
   "metadata": {},
   "source": [
    "##### <strong style=\"color: pink;\">`Step 02`. Create an Abstract Class </strong>"
   ]
  },
  {
   "cell_type": "code",
   "execution_count": 4,
   "id": "5ce54c6e",
   "metadata": {},
   "outputs": [],
   "source": [
    "class Vehicle(ABC):\n",
    "    @abstractmethod\n",
    "    def start_engine(self):\n",
    "        pass\n",
    "\n",
    "    @abstractmethod\n",
    "    def stop_engine(self):\n",
    "        pass\n",
    "\n",
    "    @abstractmethod\n",
    "    def drive(self):\n",
    "        pass"
   ]
  },
  {
   "cell_type": "markdown",
   "id": "b4b1e673",
   "metadata": {},
   "source": [
    "##### <strong style=\"color: pink;\">`Step 03.` Create a Concrete Class that Implements the Abstract Class </strong>"
   ]
  },
  {
   "cell_type": "code",
   "execution_count": 6,
   "id": "8e811701",
   "metadata": {},
   "outputs": [],
   "source": [
    "class Car(Vehicle):\n",
    "    def start_engine(self):\n",
    "        print(\"Car engine started\")\n",
    "\n",
    "    def stop_engine(self):\n",
    "        print(\"Car engine stopped\")\n",
    "\n",
    "    def drive(self):\n",
    "        print(\"Car is driving\")"
   ]
  },
  {
   "cell_type": "code",
   "execution_count": 7,
   "id": "f5e1042e",
   "metadata": {},
   "outputs": [
    {
     "name": "stdout",
     "output_type": "stream",
     "text": [
      "Car engine started\n",
      "Car is driving\n",
      "Car engine stopped\n"
     ]
    }
   ],
   "source": [
    "c = Car()\n",
    "c.start_engine()\n",
    "c.drive()\n",
    "c.stop_engine()"
   ]
  },
  {
   "cell_type": "code",
   "execution_count": 8,
   "id": "cbe8b34b",
   "metadata": {},
   "outputs": [],
   "source": [
    "class Bike(Vehicle):\n",
    "    def start_engine(self):\n",
    "        print(\"Bike engine started\")\n",
    "\n",
    "    def stop_engine(self):\n",
    "        print(\"Bike engine stopped\")\n",
    "\n",
    "    def drive(self):\n",
    "        print(\"Bike is driving\")"
   ]
  },
  {
   "cell_type": "code",
   "execution_count": 9,
   "id": "3170a431",
   "metadata": {},
   "outputs": [
    {
     "name": "stdout",
     "output_type": "stream",
     "text": [
      "Bike engine started\n",
      "Bike is driving\n",
      "Bike engine stopped\n"
     ]
    }
   ],
   "source": [
    "b = Bike()\n",
    "b.start_engine()\n",
    "b.drive()\n",
    "b.stop_engine()"
   ]
  },
  {
   "cell_type": "markdown",
   "id": "5e901510",
   "metadata": {},
   "source": [
    "##### <strong style=\"color: pink;\">`Step 04.` Use the Concrete Class </strong>"
   ]
  },
  {
   "cell_type": "markdown",
   "id": "e3d6d793",
   "metadata": {},
   "source": [
    "#### <strong style=\"color: red;\">✅ 3. We cannot create an object of an abstract class directly </strong>"
   ]
  },
  {
   "cell_type": "markdown",
   "id": "c4a40428",
   "metadata": {},
   "source": [
    "#### <strong style=\"color: orange;\">✅ 4. Practice Idea</strong>"
   ]
  },
  {
   "cell_type": "markdown",
   "id": "e690d981",
   "metadata": {},
   "source": [
    "Create an abstract class `Shape` with an abstract method `area()`. Then create `Circle` and `Rectangle` classes that implement `area()`."
   ]
  }
 ],
 "metadata": {
  "kernelspec": {
   "display_name": "Python 3",
   "language": "python",
   "name": "python3"
  },
  "language_info": {
   "codemirror_mode": {
    "name": "ipython",
    "version": 3
   },
   "file_extension": ".py",
   "mimetype": "text/x-python",
   "name": "python",
   "nbconvert_exporter": "python",
   "pygments_lexer": "ipython3",
   "version": "3.10.13"
  }
 },
 "nbformat": 4,
 "nbformat_minor": 5
}
