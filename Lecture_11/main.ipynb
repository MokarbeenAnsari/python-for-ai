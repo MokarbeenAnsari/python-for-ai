{
 "cells": [
  {
   "cell_type": "markdown",
   "metadata": {},
   "source": [
    "#### 1. What is operators in programming?"
   ]
  },
  {
   "cell_type": "markdown",
   "metadata": {},
   "source": [
    "<code>Operators are used to perform operations on variables and values.</code>"
   ]
  },
  {
   "cell_type": "code",
   "execution_count": 2,
   "metadata": {},
   "outputs": [
    {
     "name": "stdout",
     "output_type": "stream",
     "text": [
      "60\n"
     ]
    }
   ],
   "source": [
    "2 + 3\n",
    "\n",
    "x = 10\n",
    "y = 20\n",
    "\n",
    "c = x + y + 30\n",
    "print(c)"
   ]
  },
  {
   "cell_type": "markdown",
   "metadata": {},
   "source": [
    "#### 2. Arithmetic Operators"
   ]
  },
  {
   "cell_type": "markdown",
   "metadata": {},
   "source": [
    "| Operator | Name           |\n",
    "|----------|----------------|\n",
    "| +        | Addition       |\n",
    "| -        | Subtraction    |\n",
    "| *        | Multiplication |\n",
    "| /        | Division       |\n",
    "| %        | Modulus        |\n",
    "| **       | Exponentiation |\n",
    "| //       | Floor division |"
   ]
  },
  {
   "cell_type": "markdown",
   "metadata": {},
   "source": [
    "#### 3. Assignment Operators"
   ]
  },
  {
   "cell_type": "markdown",
   "metadata": {},
   "source": [
    "| Operator | Name               |\n",
    "|----------|-------------------|\n",
    "| =        | Assignment        |\n",
    "| +=       | Add and Assign    |\n",
    "| -=       | Subtract and Assign |\n",
    "| *=       | Multiply and Assign |\n",
    "| /=       | Divide and Assign  |\n",
    "| %=       | Modulus and Assign |\n",
    "| //=      | Floor Divide and Assign |\n",
    "| **=      | Exponentiate and Assign |"
   ]
  },
  {
   "cell_type": "code",
   "execution_count": 3,
   "metadata": {},
   "outputs": [
    {
     "name": "stdout",
     "output_type": "stream",
     "text": [
      "20\n",
      "30\n"
     ]
    }
   ],
   "source": [
    "x = 10\n",
    "y = 20\n",
    "print(y)\n",
    "y += x\n",
    "print(y)"
   ]
  },
  {
   "cell_type": "markdown",
   "metadata": {},
   "source": [
    "#### 4. Comparison Operators"
   ]
  },
  {
   "cell_type": "markdown",
   "metadata": {},
   "source": [
    "| Operator | Name                         |\n",
    "|----------|------------------------------|\n",
    "| ==       | Equal                        |\n",
    "| !=       | Not equal                    |\n",
    "| >        | Greater than                 |\n",
    "| <        | Less than                    |\n",
    "| >=       | Greater than or equal to     |\n",
    "| <=       | Less than or equal to        |"
   ]
  },
  {
   "cell_type": "code",
   "execution_count": 6,
   "metadata": {},
   "outputs": [
    {
     "name": "stdout",
     "output_type": "stream",
     "text": [
      "False\n",
      "True\n",
      "False\n"
     ]
    }
   ],
   "source": [
    "x = 10\n",
    "y = 20\n",
    "print(x==y)\n",
    "print(x!=y)\n",
    "print(x>y)"
   ]
  },
  {
   "cell_type": "markdown",
   "metadata": {},
   "source": [
    "#### 5. Logical Operators"
   ]
  },
  {
   "cell_type": "markdown",
   "metadata": {},
   "source": [
    "| Operator | Name                        |\n",
    "|----------|----------------------------|\n",
    "| and      | Logical AND                 |\n",
    "| or       | Logical OR                  |\n",
    "| not      | Logical NOT                 |"
   ]
  },
  {
   "cell_type": "code",
   "execution_count": 10,
   "metadata": {},
   "outputs": [
    {
     "name": "stdout",
     "output_type": "stream",
     "text": [
      "True\n",
      "True\n",
      "False\n"
     ]
    }
   ],
   "source": [
    "print(True and True)\n",
    "print(True or True)\n",
    "print(not True)"
   ]
  },
  {
   "cell_type": "markdown",
   "metadata": {},
   "source": [
    "#### 6. Identity Operators"
   ]
  },
  {
   "cell_type": "markdown",
   "metadata": {},
   "source": [
    "| Operator | Description                                      |\n",
    "|----------|-------------------------------------------------|\n",
    "| is       | Returns True if both variables are the same object |\n",
    "| is not   | Returns True if both variables are not the same object |"
   ]
  },
  {
   "cell_type": "code",
   "execution_count": 12,
   "metadata": {},
   "outputs": [
    {
     "name": "stdout",
     "output_type": "stream",
     "text": [
      "4337254928\n",
      "4337255248\n",
      "4337254928\n"
     ]
    }
   ],
   "source": [
    "x = 10\n",
    "y = 20\n",
    "z = x\n",
    "\n",
    "print(id(x))\n",
    "print(id(y))\n",
    "print(id(z))"
   ]
  },
  {
   "cell_type": "code",
   "execution_count": 16,
   "metadata": {},
   "outputs": [
    {
     "name": "stdout",
     "output_type": "stream",
     "text": [
      "False\n",
      "True\n",
      "True\n",
      "False\n"
     ]
    }
   ],
   "source": [
    "print(x is y)\n",
    "print(x is z)\n",
    "print(x is not y)\n",
    "print(x is not z)"
   ]
  },
  {
   "cell_type": "markdown",
   "metadata": {},
   "source": [
    "#### 7. Membership Operators"
   ]
  },
  {
   "cell_type": "markdown",
   "metadata": {},
   "source": [
    "| Operator | Description                                                      |\n",
    "|----------|------------------------------------------------------------------|\n",
    "| in       | Returns True if a sequence with the specified value is present in the object |\n",
    "| not in   | Returns True if a sequence with the specified value is not present in the object |"
   ]
  },
  {
   "cell_type": "code",
   "execution_count": 19,
   "metadata": {},
   "outputs": [
    {
     "name": "stdout",
     "output_type": "stream",
     "text": [
      "False\n",
      "True\n"
     ]
    }
   ],
   "source": [
    "x = [10, 20, 30, 40, 50]\n",
    "y = 100\n",
    "\n",
    "print(y in x)\n",
    "print(y not in x)"
   ]
  },
  {
   "cell_type": "markdown",
   "metadata": {},
   "source": [
    "#### <code style=\"color: red;\"> 8.Bitwise Operators</code>"
   ]
  },
  {
   "cell_type": "markdown",
   "metadata": {},
   "source": [
    "| Operator | Name                   | Description                                                      |\n",
    "|----------|------------------------|------------------------------------------------------------------|\n",
    "| &        | AND                    | Sets each bit to 1 if both bits are 1                           |\n",
    "| \\|       | OR                     | Sets each bit to 1 if one of two bits is 1                      |\n",
    "| ^        | XOR                    | Sets each bit to 1 if only one of two bits is 1                 |\n",
    "| ~        | NOT                    | Inverts all the bits                                            |\n",
    "| <<       | Zero fill left shift    | Shift left by pushing zeros in from the right and let the leftmost bits fall off |\n",
    "| >>       | Signed right shift      | Shift right by pushing copies of the leftmost bit in from the left, and let the rightmost bits fall off |"
   ]
  },
  {
   "cell_type": "markdown",
   "metadata": {},
   "source": [
    "#### <code style=\"color: red;\">9.Operator Precendence</code>"
   ]
  },
  {
   "cell_type": "code",
   "execution_count": 25,
   "metadata": {},
   "outputs": [
    {
     "data": {
      "text/plain": [
       "20.0"
      ]
     },
     "execution_count": 25,
     "metadata": {},
     "output_type": "execute_result"
    }
   ],
   "source": [
    "y = 10\n",
    "y * (10 / 5)"
   ]
  }
 ],
 "metadata": {
  "kernelspec": {
   "display_name": "Python 3",
   "language": "python",
   "name": "python3"
  },
  "language_info": {
   "codemirror_mode": {
    "name": "ipython",
    "version": 3
   },
   "file_extension": ".py",
   "mimetype": "text/x-python",
   "name": "python",
   "nbconvert_exporter": "python",
   "pygments_lexer": "ipython3",
   "version": "3.10.13"
  }
 },
 "nbformat": 4,
 "nbformat_minor": 2
}
