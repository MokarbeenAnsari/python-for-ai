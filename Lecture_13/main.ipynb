{
 "cells": [
  {
   "cell_type": "markdown",
   "metadata": {},
   "source": [
    "#### **<code style=\"color: orange;\"> 1. Tuples in Python</code>**"
   ]
  },
  {
   "cell_type": "markdown",
   "metadata": {},
   "source": [
    "- Tuple is a collection which is ordered and unchangeable. Allows duplicate members.\n",
    "- Tuples are used to store multiple items in a single variable.\n",
    "- len()\n",
    "- type()\n",
    "- tuple()\n",
    "- <code style=\"color:red;\">To create a tuple with only one item, you have to add a comma after the item, otherwise Python will not recognize it as a tuple. </code>"
   ]
  },
  {
   "cell_type": "code",
   "execution_count": 3,
   "metadata": {},
   "outputs": [
    {
     "name": "stdout",
     "output_type": "stream",
     "text": [
      "()\n",
      "<class 'tuple'>\n",
      "4302733424\n"
     ]
    }
   ],
   "source": [
    "tuple1 = ()\n",
    "print(tuple1)\n",
    "print(type(tuple1))\n",
    "print(id(tuple1))"
   ]
  },
  {
   "cell_type": "code",
   "execution_count": 7,
   "metadata": {},
   "outputs": [
    {
     "name": "stdout",
     "output_type": "stream",
     "text": [
      "('apple',)\n",
      "<class 'tuple'>\n"
     ]
    }
   ],
   "source": [
    "tuple1 = (\"apple\",)\n",
    "print(tuple1)\n",
    "print(type(tuple1))"
   ]
  },
  {
   "cell_type": "code",
   "execution_count": 10,
   "metadata": {},
   "outputs": [
    {
     "name": "stdout",
     "output_type": "stream",
     "text": [
      "('apple', 1, 2.5, 'cherry', True)\n",
      "<class 'tuple'>\n",
      "4375047808\n",
      "5\n"
     ]
    }
   ],
   "source": [
    "tuple1 = (\"apple\", 1, 2.5, \"cherry\", True)\n",
    "print(tuple1)\n",
    "print(type(tuple1))\n",
    "print(id(tuple1))\n",
    "print(len(tuple1))\n"
   ]
  },
  {
   "cell_type": "markdown",
   "metadata": {},
   "source": [
    "#### **<code style=\"color: orange;\"> 2. Access Tuples</code>**"
   ]
  },
  {
   "cell_type": "code",
   "execution_count": 11,
   "metadata": {},
   "outputs": [
    {
     "name": "stdout",
     "output_type": "stream",
     "text": [
      "('apple', 1, 2.5, 'cherry', True)\n"
     ]
    }
   ],
   "source": [
    "tuple1 = (\"apple\", 1, 2.5, \"cherry\", True)\n",
    "print(tuple1)"
   ]
  },
  {
   "cell_type": "code",
   "execution_count": 12,
   "metadata": {},
   "outputs": [
    {
     "name": "stdout",
     "output_type": "stream",
     "text": [
      "apple\n",
      "True\n"
     ]
    }
   ],
   "source": [
    "print(tuple1[0])\n",
    "print(tuple1[-1])"
   ]
  },
  {
   "cell_type": "code",
   "execution_count": 13,
   "metadata": {},
   "outputs": [
    {
     "name": "stdout",
     "output_type": "stream",
     "text": [
      "(1, 2.5, 'cherry')\n"
     ]
    }
   ],
   "source": [
    "print(tuple1[1:4])"
   ]
  },
  {
   "cell_type": "markdown",
   "metadata": {},
   "source": [
    "#### **<code style=\"color: orange;\"> 3. Update Tuples</code>**"
   ]
  },
  {
   "cell_type": "markdown",
   "metadata": {},
   "source": [
    "- <code style=\"color: red;\"> append() </code>\n",
    "- <code style=\"color: red;\"> insert() </code>\n",
    "- <code style=\"color: red;\"> extend() </code>\n",
    "- <code style=\"color: red;\"> remove() </code>\n",
    "- <code style=\"color: red;\"> pop() </code>\n",
    "- <code style=\"color: red;\"> clear() </code>\n",
    "- del "
   ]
  },
  {
   "cell_type": "code",
   "execution_count": 17,
   "metadata": {},
   "outputs": [
    {
     "name": "stdout",
     "output_type": "stream",
     "text": [
      "('apple', 1, 2.5, 'cherry', True)\n"
     ]
    }
   ],
   "source": [
    "tuple1 = (\"apple\", 1, 2.5, \"cherry\", True)\n",
    "print(tuple1)"
   ]
  },
  {
   "cell_type": "code",
   "execution_count": 18,
   "metadata": {},
   "outputs": [],
   "source": [
    "del tuple1\n",
    "# print(tuple1) # NameError: name 'tuple1' is not defined"
   ]
  },
  {
   "cell_type": "code",
   "execution_count": 19,
   "metadata": {},
   "outputs": [
    {
     "name": "stdout",
     "output_type": "stream",
     "text": [
      "('apple', 1, 2.5, 'cherry', True)\n"
     ]
    }
   ],
   "source": [
    "tuple1 = (\"apple\", 1, 2.5, \"cherry\", True)\n",
    "print(tuple1)"
   ]
  },
  {
   "cell_type": "code",
   "execution_count": 20,
   "metadata": {},
   "outputs": [
    {
     "name": "stdout",
     "output_type": "stream",
     "text": [
      "('apple', 1, 2.5, 'cherry', True, 'banana')\n"
     ]
    }
   ],
   "source": [
    "list1 = list(tuple1)\n",
    "list1.append(\"banana\")\n",
    "tuple1 = tuple(list1)\n",
    "print(tuple1)"
   ]
  },
  {
   "cell_type": "markdown",
   "metadata": {},
   "source": [
    "#### **<code style=\"color: orange;\"> 4. Unpack Tuples</code>**"
   ]
  },
  {
   "cell_type": "markdown",
   "metadata": {},
   "source": [
    "- Using Asterisk*"
   ]
  },
  {
   "cell_type": "code",
   "execution_count": 24,
   "metadata": {},
   "outputs": [
    {
     "name": "stdout",
     "output_type": "stream",
     "text": [
      "('apple', 1, 2.5, 'cherry', True)\n"
     ]
    }
   ],
   "source": [
    "tuple1 = (\"apple\", 1, 2.5, \"cherry\", True)\n",
    "print(tuple1)"
   ]
  },
  {
   "cell_type": "code",
   "execution_count": 28,
   "metadata": {},
   "outputs": [
    {
     "name": "stdout",
     "output_type": "stream",
     "text": [
      "apple\n",
      "[1, 2.5]\n",
      "cherry\n",
      "True\n"
     ]
    }
   ],
   "source": [
    "(item1, *item2, item3, item4) = tuple1\n",
    "print(item1)\n",
    "print(item2)\n",
    "print(item3)\n",
    "print(item4)"
   ]
  },
  {
   "cell_type": "markdown",
   "metadata": {},
   "source": [
    "#### **<code style=\"color: orange;\"> 5. Loop Tuples</code>**"
   ]
  },
  {
   "cell_type": "code",
   "execution_count": 29,
   "metadata": {},
   "outputs": [
    {
     "name": "stdout",
     "output_type": "stream",
     "text": [
      "('apple', 1, 2.5, 'cherry', True)\n"
     ]
    }
   ],
   "source": [
    "tuple1 = (\"apple\", 1, 2.5, \"cherry\", True)\n",
    "print(tuple1)"
   ]
  },
  {
   "cell_type": "code",
   "execution_count": 30,
   "metadata": {},
   "outputs": [
    {
     "name": "stdout",
     "output_type": "stream",
     "text": [
      "apple\n",
      "1\n",
      "2.5\n",
      "cherry\n",
      "True\n"
     ]
    }
   ],
   "source": [
    "for x in tuple1:\n",
    "    print(x)"
   ]
  },
  {
   "cell_type": "code",
   "execution_count": 31,
   "metadata": {},
   "outputs": [
    {
     "name": "stdout",
     "output_type": "stream",
     "text": [
      "0\n",
      "apple\n",
      "1\n",
      "1\n",
      "2\n",
      "2.5\n",
      "3\n",
      "cherry\n",
      "4\n",
      "True\n"
     ]
    }
   ],
   "source": [
    "for i in range(len(tuple1)):\n",
    "    print(i)\n",
    "    print(tuple1[i])"
   ]
  },
  {
   "cell_type": "markdown",
   "metadata": {},
   "source": [
    "#### **<code style=\"color: orange;\"> 6. Join Tuples</code>**"
   ]
  },
  {
   "cell_type": "code",
   "execution_count": 32,
   "metadata": {},
   "outputs": [
    {
     "name": "stdout",
     "output_type": "stream",
     "text": [
      "('apple', 1, 2.5, 'cherry', True)\n",
      "('banana', 2, 3.5, 'date', False)\n",
      "('apple', 1, 2.5, 'cherry', True, 'banana', 2, 3.5, 'date', False)\n"
     ]
    }
   ],
   "source": [
    "tuple1 = (\"apple\", 1, 2.5, \"cherry\", True)\n",
    "print(tuple1)\n",
    "tuple2 = (\"banana\", 2, 3.5, \"date\", False)\n",
    "print(tuple2)\n",
    "tuple3 = tuple1 + tuple2\n",
    "print(tuple3)"
   ]
  },
  {
   "cell_type": "markdown",
   "metadata": {},
   "source": [
    "#### **<code style=\"color: orange;\"> 7. Tuples Methods</code>**"
   ]
  },
  {
   "cell_type": "markdown",
   "metadata": {},
   "source": [
    "**Official documentation:** https://docs.python.org/3/tutorial/datastructures.html#tuples-and-sequences"
   ]
  }
 ],
 "metadata": {
  "kernelspec": {
   "display_name": "Python 3",
   "language": "python",
   "name": "python3"
  },
  "language_info": {
   "codemirror_mode": {
    "name": "ipython",
    "version": 3
   },
   "file_extension": ".py",
   "mimetype": "text/x-python",
   "name": "python",
   "nbconvert_exporter": "python",
   "pygments_lexer": "ipython3",
   "version": "3.10.13"
  }
 },
 "nbformat": 4,
 "nbformat_minor": 2
}
